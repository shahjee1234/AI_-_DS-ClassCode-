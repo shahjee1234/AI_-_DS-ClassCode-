{
 "cells": [
  {
   "cell_type": "markdown",
   "metadata": {},
   "source": [
    "# Python Class 21-01-2021"
   ]
  },
  {
   "cell_type": "raw",
   "metadata": {},
   "source": [
    "# 8-7. Album: Write a function called make_album() that builds a dictionary describing a music album . The function should take in an artist name and an album title, and it should return a dictionary containing these two pieces of information . Use the function to make three dictionaries representing different albums . Print each return value to show that the dictionaries are storing the album information correctly . Add an optional parameter to make_album() that allows you to store the number of tracks on an album . If the calling line includes a value for the number of tracks, add that value to the album’s dictionary . Make at least one new function call that includes the number of tracks on an album ."
   ]
  },
  {
   "cell_type": "code",
   "execution_count": 8,
   "metadata": {},
   "outputs": [],
   "source": [
    "def make_album(artist_name,album_title):\n",
    "    dic={'artist_name':artist_name,'album_title':album_title}\n",
    "    return dic\n",
    "\n",
    "\n"
   ]
  },
  {
   "cell_type": "code",
   "execution_count": 9,
   "metadata": {},
   "outputs": [],
   "source": [
    "album1 = make_album(\"Mubashir\",\"Aosh\")\n",
    "album2 = make_album(\"Maaz\",\"Alexa\")\n",
    "album3 = make_album(\"Mukarram\",\"Ooho\")\n",
    "\n"
   ]
  },
  {
   "cell_type": "code",
   "execution_count": 10,
   "metadata": {},
   "outputs": [
    {
     "name": "stdout",
     "output_type": "stream",
     "text": [
      "{'artist_name': 'Mubashir', 'album_title': 'Aosh'} {'artist_name': 'Maaz', 'album_title': 'Alexa'} {'artist_name': 'Mukarram', 'album_title': 'Ooho'}\n"
     ]
    }
   ],
   "source": [
    "print(album1, album2, album3)"
   ]
  },
  {
   "cell_type": "code",
   "execution_count": 12,
   "metadata": {},
   "outputs": [
    {
     "name": "stdout",
     "output_type": "stream",
     "text": [
      "{'artist_name': 'Mubashir', 'album_title': 'Aleaa', 'no_of_tracks': 10}\n",
      "{'artist_name': 'Maaz', 'album_title': 'Alexa', 'no_of_tracks': 12}\n",
      "{'artist_name': 'Mukarram', 'album_title': 'Ooho'}\n"
     ]
    }
   ],
   "source": [
    "def make_album1(artist_name,album_title,no_of_tracks=''):\n",
    "    dic={'artist_name':artist_name,'album_title':album_title}\n",
    "    if no_of_tracks:\n",
    "        dic['no_of_tracks']=no_of_tracks\n",
    "    return dic\n",
    "album1 = make_album1(\"Mubashir\",\"Aleaa\",10)\n",
    "album2 = make_album1(\"Maaz\",\"Alexa\",12)\n",
    "album3 = make_album1(\"Mukarram\",\"Ooho\")\n",
    "print(album1)\n",
    "print(album2)\n",
    "print(album3)\n"
   ]
  },
  {
   "cell_type": "raw",
   "metadata": {},
   "source": [
    "8-8. User Albums: Start with your program from Exercise 8-7 . Write a while loop that allows users to enter an album’s artist and title . Once you have that information, call make_album() with the user’s input and print the dictionary that’s created . Be sure to include a quit value in the while loop ."
   ]
  },
  {
   "cell_type": "code",
   "execution_count": 25,
   "metadata": {},
   "outputs": [],
   "source": [
    "def make_album2(artist_name,album_title):\n",
    "    dic={'artist_name':artist_name,'album_title':album_title}\n",
    "    a=0\n",
    "    return dic\n",
    "    \n",
    "    while(a<3):\n",
    "        album4 = make_album2(input(\"Please enter a Artist name and Album name\"))\n",
    "        album5 = make_album2(input(\"Please enter a Artist name and Album name\"))\n",
    "        album6 = make_album2(input(\"Please enter a Artist name and Album name\"))\n",
    "        "
   ]
  },
  {
   "cell_type": "code",
   "execution_count": 27,
   "metadata": {},
   "outputs": [
    {
     "ename": "TypeError",
     "evalue": "make_album2() missing 2 required positional arguments: 'artist_name' and 'album_title'",
     "output_type": "error",
     "traceback": [
      "\u001b[1;31m---------------------------------------------------------------------------\u001b[0m",
      "\u001b[1;31mTypeError\u001b[0m                                 Traceback (most recent call last)",
      "\u001b[1;32m<ipython-input-27-571d03da92a1>\u001b[0m in \u001b[0;36m<module>\u001b[1;34m\u001b[0m\n\u001b[1;32m----> 1\u001b[1;33m \u001b[0mmake_album2\u001b[0m\u001b[1;33m(\u001b[0m\u001b[1;33m)\u001b[0m\u001b[1;33m\u001b[0m\u001b[1;33m\u001b[0m\u001b[0m\n\u001b[0m",
      "\u001b[1;31mTypeError\u001b[0m: make_album2() missing 2 required positional arguments: 'artist_name' and 'album_title'"
     ]
    }
   ],
   "source": [
    "make_album2()\n"
   ]
  },
  {
   "cell_type": "code",
   "execution_count": 28,
   "metadata": {},
   "outputs": [
    {
     "name": "stdout",
     "output_type": "stream",
     "text": [
      "{'artist': 'Metallica', 'title': 'Ride The Lightning'}\n",
      "{'artist': 'Beethoven', 'title': 'Ninth Symphony'}\n",
      "{'artist': 'Willie Nelson', 'title': 'Red-Headed Stranger'}\n",
      "{'artist': 'Iron Maiden', 'title': 'Piece Of Mind', 'tracks': 8}\n"
     ]
    }
   ],
   "source": [
    "def make_album(artist, title, tracks=0):\n",
    "    \"\"\"Build a dictionary containing information about an album.\"\"\"\n",
    "    album_dict = {\n",
    "        'artist': artist.title(),\n",
    "        'title': title.title(),\n",
    "        }\n",
    "    if tracks:\n",
    "        album_dict['tracks'] = tracks\n",
    "    return album_dict\n",
    "\n",
    "album = make_album('metallica', 'ride the lightning')\n",
    "print(album)\n",
    "\n",
    "album = make_album('beethoven', 'ninth symphony')\n",
    "print(album)\n",
    "\n",
    "album = make_album('willie nelson', 'red-headed stranger')\n",
    "print(album)\n",
    "\n",
    "album = make_album('iron maiden', 'piece of mind', tracks=8)\n",
    "print(album)"
   ]
  },
  {
   "cell_type": "code",
   "execution_count": 29,
   "metadata": {},
   "outputs": [
    {
     "name": "stdout",
     "output_type": "stream",
     "text": [
      "Enter 'quit' at any time to stop.\n",
      "\n",
      "What album are you thinking of? john\n",
      "Who's the artist? michal\n",
      "{'artist': 'Michal', 'title': 'John'}\n",
      "\n",
      "What album are you thinking of? nashar\n",
      "Who's the artist? abs\n",
      "{'artist': 'Abs', 'title': 'Nashar'}\n",
      "\n",
      "What album are you thinking of? jooo\n",
      "Who's the artist? ali\n",
      "{'artist': 'Ali', 'title': 'Jooo'}\n",
      "\n",
      "What album are you thinking of? quit\n",
      "\n",
      "Thanks for responding!\n"
     ]
    }
   ],
   "source": [
    "def make_album(artist, title, tracks=None):\n",
    "    \"\"\"Build a dictionary containing information about an album.\"\"\"\n",
    "    album_dict = {\n",
    "        'artist': artist.title(),\n",
    "        'title': title.title(),\n",
    "        }\n",
    "    if tracks:\n",
    "        album_dict['tracks'] = tracks\n",
    "    return album_dict\n",
    "\n",
    "# Prepare the prompts.\n",
    "title_prompt = \"\\nWhat album are you thinking of? \"\n",
    "artist_prompt = \"Who's the artist? \"\n",
    "\n",
    "# Let the user know how to quit.\n",
    "print(\"Enter 'quit' at any time to stop.\")\n",
    "\n",
    "while True:\n",
    "    title = input(title_prompt)\n",
    "    if title == 'quit':\n",
    "        break\n",
    "    \n",
    "    artist = input(artist_prompt)\n",
    "    if artist == 'quit':\n",
    "        break\n",
    "\n",
    "    album = make_album(artist, title)\n",
    "    print(album)\n",
    "\n",
    "print(\"\\nThanks for responding!\")"
   ]
  },
  {
   "cell_type": "code",
   "execution_count": 30,
   "metadata": {},
   "outputs": [],
   "source": [
    "def make_album3(artist_name,album_title,no_of_tracks=''):\n",
    "    dic={'artist_name':artist_name,'album_title':album_title}\n",
    "    if no_of_tracks:\n",
    "        dic['no_of_tracks']=no_of_tracks\n",
    "    return dic"
   ]
  },
  {
   "cell_type": "markdown",
   "metadata": {},
   "source": [
    "# Salary Calculator"
   ]
  },
  {
   "cell_type": "code",
   "execution_count": 38,
   "metadata": {},
   "outputs": [],
   "source": [
    "def salaryCalc(basic_salary):\n",
    "    tax_ded = 0\n",
    "    if basic_salary<30000:\n",
    "        tax_ded=0\n",
    "    elif basic_salary>=30000 and basic_salary<50000:\n",
    "        tax_ded=5\n",
    "    elif basic_salary>=50000 and basic_salary<100000:\n",
    "        tax_ded=10\n",
    "    else:\n",
    "        tax_ded=15\n",
    "    tot_ded = basic_salary - basic_salary*tax_ded/100\n",
    "    gross_salary = basic_salary - tot_ded\n",
    "    return gross_salary"
   ]
  },
  {
   "cell_type": "code",
   "execution_count": 39,
   "metadata": {},
   "outputs": [
    {
     "name": "stdout",
     "output_type": "stream",
     "text": [
      "\n",
      "Enter basic salary of the employee40000\n",
      "The gross salary of the employee is 2000.0\n"
     ]
    }
   ],
   "source": [
    "basic_salary = int(input(\"\\nEnter basic salary of the employee\"))\n",
    "\n",
    "grossSalary=salaryCalc(basic_salary)\n",
    "print(f'The gross salary of the employee is {grossSalary}')"
   ]
  },
  {
   "cell_type": "code",
   "execution_count": 51,
   "metadata": {},
   "outputs": [],
   "source": [
    "def salaryCalc(basic_salary):\n",
    "    tax_ded = tax_calc(basic_salary)\n",
    "    gross_salary = basic_salary - tax_ded\n",
    "    return gross_salary\n",
    "    \n"
   ]
  },
  {
   "cell_type": "code",
   "execution_count": 54,
   "metadata": {},
   "outputs": [],
   "source": [
    "def tax_calc(basic_salary):\n",
    "    tax_ded = 0\n",
    "    if basic_salary<30000:\n",
    "        tax_ded=0\n",
    "    elif basic_salary>=30000 and basic_salary<50000:\n",
    "        tax_ded=5\n",
    "    elif basic_salary>=50000 and basic_salary<100000:\n",
    "        tax_ded=10\n",
    "    else:\n",
    "        tax_ded=15\n",
    "    total_tax = basic_salary - basic_salary*tax_ded/100\n",
    "    return total_tax\n"
   ]
  },
  {
   "cell_type": "code",
   "execution_count": 55,
   "metadata": {},
   "outputs": [
    {
     "name": "stdout",
     "output_type": "stream",
     "text": [
      "\n",
      "Enter basic salary of the employee45000\n",
      "The gross salary of the employee is 2250.0\n"
     ]
    }
   ],
   "source": [
    "basic_salary = int(input(\"\\nEnter basic salary of the employee\"))\n",
    "\n",
    "grossSalary=salaryCalc(basic_salary)\n",
    "print(f'The gross salary of the employee is {grossSalary}')"
   ]
  },
  {
   "cell_type": "code",
   "execution_count": 56,
   "metadata": {},
   "outputs": [],
   "source": [
    "\n",
    "# commision\n",
    "def salaryCalc(basic_salary):\n",
    "    tax_ded = tax_calc(basic_salary)\n",
    "    gross_salary = basic_salary - tax_ded\n",
    "    return gross_salary\n",
    "    "
   ]
  },
  {
   "cell_type": "code",
   "execution_count": null,
   "metadata": {},
   "outputs": [],
   "source": [
    "def pro_commision(basic_salary):\n",
    "    pro_com = 0\n",
    "    if basic_salary<30000:\n",
    "        pro_com=0\n",
    "    elif basic_salary>=30000 and basic_salary<50000 and :\n",
    "        tax_ded=5\n",
    "    elif basic_salary>=50000 and basic_salary<100000:\n",
    "        tax_ded=10\n",
    "    else:\n",
    "        tax_ded=15\n",
    "    total_tax = basic_salary - basic_salary*tax_ded/100\n",
    "    return total_tax\n"
   ]
  }
 ],
 "metadata": {
  "kernelspec": {
   "display_name": "Python 3",
   "language": "python",
   "name": "python3"
  },
  "language_info": {
   "codemirror_mode": {
    "name": "ipython",
    "version": 3
   },
   "file_extension": ".py",
   "mimetype": "text/x-python",
   "name": "python",
   "nbconvert_exporter": "python",
   "pygments_lexer": "ipython3",
   "version": "3.7.6"
  }
 },
 "nbformat": 4,
 "nbformat_minor": 4
}
