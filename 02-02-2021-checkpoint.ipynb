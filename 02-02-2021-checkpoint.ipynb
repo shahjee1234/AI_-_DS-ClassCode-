{
 "cells": [
  {
   "cell_type": "markdown",
   "metadata": {},
   "source": [
    "# 02-02-2021"
   ]
  },
  {
   "cell_type": "code",
   "execution_count": 32,
   "metadata": {},
   "outputs": [],
   "source": [
    "class Car:\n",
    "    def __init__(self,make,model,year):\n",
    "        self.make = make\n",
    "        self.model = model\n",
    "        self.year = year\n",
    "        self.odometer_reading = 0\n",
    "    def get_descriptive_name(self):\n",
    "        long_name = str(self.year) + ' ' + self.make+ ' ' +self.model\n",
    "        return long_name.title()\n",
    "    def set_odometer(self,mileage):\n",
    "        self.odometer_reading = mileage\n",
    "        \n",
    "    def get_odometer(self):\n",
    "        print(\"This car has \" + str(self.odometer_reading) + \" miles on it\")"
   ]
  },
  {
   "cell_type": "code",
   "execution_count": 33,
   "metadata": {},
   "outputs": [],
   "source": [
    "car1= Car('Honda','City',2021)"
   ]
  },
  {
   "cell_type": "code",
   "execution_count": 34,
   "metadata": {},
   "outputs": [
    {
     "name": "stdout",
     "output_type": "stream",
     "text": [
      "This car has 0 miles on it\n"
     ]
    }
   ],
   "source": [
    "car1.get_odometer()"
   ]
  },
  {
   "cell_type": "code",
   "execution_count": 36,
   "metadata": {},
   "outputs": [],
   "source": [
    "class Employee():\n",
    "    # characteristics/attributes\n",
    "    def __init__(self,name,designation,age):    # initializer fn\n",
    "        self.name = name   # self basically object ka name hota ha\n",
    "        self.designation = designation    # instance variable or object variable\n",
    "        self.age = age\n",
    "        self.qualification = \"enter\"\n",
    "        print(\"Employee create ho gya ha\")\n",
    "    def set_qualifications(self,degree):\n",
    "        self.qualification = degree\n",
    "        \n",
    "    def get_qualifications(self):\n",
    "        print(\"The employee qualification is \" + str(self.qualification))\n",
    "    def emp_char(self):\n",
    "        print(f\"{self.name} is a employee\")\n",
    "        print(f\"{self.name} is a {self.designation}\")\n",
    "        print(f\"{self.name} is {self.age} years old! \")"
   ]
  },
  {
   "cell_type": "code",
   "execution_count": null,
   "metadata": {},
   "outputs": [],
   "source": []
  },
  {
   "cell_type": "code",
   "execution_count": 37,
   "metadata": {},
   "outputs": [
    {
     "name": "stdout",
     "output_type": "stream",
     "text": [
      "Employee create ho gya ha\n"
     ]
    }
   ],
   "source": [
    "employee1=Employee(\"Ebad\",\"Manager\",30)"
   ]
  },
  {
   "cell_type": "code",
   "execution_count": 19,
   "metadata": {},
   "outputs": [
    {
     "name": "stdout",
     "output_type": "stream",
     "text": [
      "Ebad is a employee\n",
      "Ebad is a Manager\n",
      "Ebad is 30 years old! \n"
     ]
    }
   ],
   "source": [
    "employee1.emp_char()"
   ]
  },
  {
   "cell_type": "code",
   "execution_count": 38,
   "metadata": {},
   "outputs": [
    {
     "name": "stdout",
     "output_type": "stream",
     "text": [
      "The employee qualification is enter\n"
     ]
    }
   ],
   "source": [
    "employee1.get_qualifications()"
   ]
  },
  {
   "cell_type": "code",
   "execution_count": 39,
   "metadata": {},
   "outputs": [],
   "source": [
    "employee1.set_qualifications(\"Engineer\")"
   ]
  },
  {
   "cell_type": "code",
   "execution_count": 40,
   "metadata": {},
   "outputs": [
    {
     "name": "stdout",
     "output_type": "stream",
     "text": [
      "The employee qualification is Engineer\n"
     ]
    }
   ],
   "source": [
    "employee1.get_qualifications()"
   ]
  },
  {
   "cell_type": "markdown",
   "metadata": {},
   "source": [
    "# INHERITANCE\n"
   ]
  },
  {
   "cell_type": "code",
   "execution_count": 6,
   "metadata": {},
   "outputs": [],
   "source": [
    "class Car():\n",
    "    def __init__(self,make,model,year):\n",
    "        self.make = make\n",
    "        self.model = model\n",
    "        self.year = year\n",
    "        self.odometer_reading = 0\n",
    "    def get_descriptive_name(self):\n",
    "        long_name = str(self.year) + ' ' + self.make+ ' ' +self.model\n",
    "        return long_name.title()\n",
    "    def read_odometer(self,mileage):\n",
    "         print(\"This car has \" + str(self.odometer_reading) + \" miles on it\")\n",
    "        \n",
    "   # def update_odometer(self,mileage):\n",
    "        \n",
    "    def increment_odometer(self,miles):\n",
    "        self.odometer_reading += miles\n",
    "        \n",
    "       "
   ]
  },
  {
   "cell_type": "code",
   "execution_count": 7,
   "metadata": {},
   "outputs": [],
   "source": [
    "class ElectricCar(Car):  # multiple inheritance allowed in python\n",
    "    def __init__(self,make,model,year):\n",
    "        super().__init__(make,model,year)\n",
    "        self.battery_size = 70\n",
    "    "
   ]
  },
  {
   "cell_type": "code",
   "execution_count": 8,
   "metadata": {},
   "outputs": [
    {
     "name": "stdout",
     "output_type": "stream",
     "text": [
      "2016 Tesla Model\n"
     ]
    }
   ],
   "source": [
    "my_tesla=ElectricCar('tesla','model',2016)\n",
    "print(my_tesla.get_descriptive_name())"
   ]
  },
  {
   "cell_type": "code",
   "execution_count": 9,
   "metadata": {},
   "outputs": [],
   "source": [
    "#Defining Attributes and Methods for the "
   ]
  },
  {
   "cell_type": "code",
   "execution_count": null,
   "metadata": {},
   "outputs": [],
   "source": []
  }
 ],
 "metadata": {
  "kernelspec": {
   "display_name": "Python 3",
   "language": "python",
   "name": "python3"
  },
  "language_info": {
   "codemirror_mode": {
    "name": "ipython",
    "version": 3
   },
   "file_extension": ".py",
   "mimetype": "text/x-python",
   "name": "python",
   "nbconvert_exporter": "python",
   "pygments_lexer": "ipython3",
   "version": "3.8.5"
  }
 },
 "nbformat": 4,
 "nbformat_minor": 4
}
