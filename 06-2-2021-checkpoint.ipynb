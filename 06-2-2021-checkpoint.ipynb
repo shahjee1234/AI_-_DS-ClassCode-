{
 "cells": [
  {
   "cell_type": "markdown",
   "metadata": {},
   "source": [
    "# 06-02-2021"
   ]
  },
  {
   "cell_type": "code",
   "execution_count": 2,
   "metadata": {},
   "outputs": [],
   "source": [
    "%run car.py"
   ]
  },
  {
   "cell_type": "code",
   "execution_count": 3,
   "metadata": {},
   "outputs": [],
   "source": [
    "from car import Car"
   ]
  },
  {
   "cell_type": "code",
   "execution_count": 9,
   "metadata": {},
   "outputs": [],
   "source": [
    "car1 = Car('Honda','Civic',2017)"
   ]
  },
  {
   "cell_type": "code",
   "execution_count": 10,
   "metadata": {},
   "outputs": [
    {
     "data": {
      "text/plain": [
       "'2017 Honda Civic'"
      ]
     },
     "execution_count": 10,
     "metadata": {},
     "output_type": "execute_result"
    }
   ],
   "source": [
    "car1.get_descriptive_name()"
   ]
  },
  {
   "cell_type": "code",
   "execution_count": 15,
   "metadata": {},
   "outputs": [
    {
     "name": "stdout",
     "output_type": "stream",
     "text": [
      "This car has 0 miles on it\n"
     ]
    }
   ],
   "source": [
    "car1.read_odometer(0)"
   ]
  },
  {
   "cell_type": "code",
   "execution_count": 19,
   "metadata": {},
   "outputs": [
    {
     "name": "stdout",
     "output_type": "stream",
     "text": [
      "This car has 0 miles on it\n"
     ]
    }
   ],
   "source": [
    "car1.read_odometer('mileage')"
   ]
  },
  {
   "cell_type": "code",
   "execution_count": 21,
   "metadata": {},
   "outputs": [],
   "source": [
    "car1.increment_odometer(4)"
   ]
  },
  {
   "cell_type": "code",
   "execution_count": 23,
   "metadata": {},
   "outputs": [
    {
     "name": "stdout",
     "output_type": "stream",
     "text": [
      "This car has 4 miles on it\n"
     ]
    }
   ],
   "source": [
    "car1.read_odometer('mileage')"
   ]
  },
  {
   "cell_type": "code",
   "execution_count": 24,
   "metadata": {},
   "outputs": [
    {
     "name": "stdout",
     "output_type": "stream",
     "text": [
      "This car has 4 miles on it\n"
     ]
    }
   ],
   "source": [
    "car1.read_odometer('mileage')"
   ]
  },
  {
   "cell_type": "code",
   "execution_count": 27,
   "metadata": {},
   "outputs": [
    {
     "name": "stdout",
     "output_type": "stream",
     "text": [
      "2017 Honda Civic\n",
      "This car has 23 miles on it\n"
     ]
    }
   ],
   "source": [
    "print(car1.get_descriptive_name())\n",
    "car1.odometer_reading = 23\n",
    "car1.read_odometer(0)"
   ]
  },
  {
   "cell_type": "code",
   "execution_count": 19,
   "metadata": {},
   "outputs": [],
   "source": [
    "# file read write key word\n",
    "with open(\"abc.txt\",'w') as obj:\n",
    "    obj.write(\"I am Mubashir \\n\")\n",
    "    obj.write(\"I am another file that does not exist1 \\n\")\n",
    "    obj.write(\"I am another file that does not exist2 \\n\")\n",
    "    obj.write(\"I am another file that does not exist3 \\n\")\n",
    "    obj.write(\"I am another file that does not exist4 \\n\")"
   ]
  },
  {
   "cell_type": "code",
   "execution_count": 21,
   "metadata": {},
   "outputs": [
    {
     "name": "stdout",
     "output_type": "stream",
     "text": [
      "I am Mubashir \n",
      "I am another file that does not exist1 \n",
      "I am another file that does not exist2 \n",
      "I am another file that does not exist3 \n",
      "I am another file that does not exist4 \n",
      "\n"
     ]
    }
   ],
   "source": [
    "with open('abc.txt','r') as f:\n",
    "    content_read = f.read()\n",
    "    print(content_read)"
   ]
  },
  {
   "cell_type": "code",
   "execution_count": 23,
   "metadata": {},
   "outputs": [
    {
     "name": "stdout",
     "output_type": "stream",
     "text": [
      "I am Mubashir \n",
      "\n"
     ]
    }
   ],
   "source": [
    "with open('abc.txt','r') as f:\n",
    "    content_read = f.readline()\n",
    "    print(content_read)"
   ]
  },
  {
   "cell_type": "code",
   "execution_count": 25,
   "metadata": {},
   "outputs": [
    {
     "name": "stdout",
     "output_type": "stream",
     "text": [
      "['I am Mubashir \\n', 'I am another file that does not exist1 \\n', 'I am another file that does not exist2 \\n', 'I am another file that does not exist3 \\n', 'I am another file that does not exist4 \\n']\n"
     ]
    }
   ],
   "source": [
    "with open('abc.txt','r') as f:\n",
    "    content_read = f.readlines() # sari line list ka form ma a jaay gi\n",
    "    print(content_read)"
   ]
  },
  {
   "cell_type": "code",
   "execution_count": 27,
   "metadata": {},
   "outputs": [],
   "source": [
    "with open(\"abc.txt\",'a') as obj:  # this is append\n",
    "    obj.write(\"I am Mubashir \\n\")\n",
    "    obj.write(\"I am another file that does not exist5 \\n\")\n",
    "    obj.write(\"I am another file that does not exist6 \\n\")\n",
    "    obj.write(\"I am another file that does not exist7 \\n\")\n",
    "    obj.write(\"I am another file that does not exist8 \\n\")"
   ]
  },
  {
   "cell_type": "code",
   "execution_count": 5,
   "metadata": {},
   "outputs": [],
   "source": [
    "with open(\"hello.txt\",'w') as obj:\n",
    "    obj.write(\"I am another file that does not exist\")"
   ]
  },
  {
   "cell_type": "code",
   "execution_count": 6,
   "metadata": {},
   "outputs": [
    {
     "name": "stdout",
     "output_type": "stream",
     "text": [
      "I am another file that does not exist\n"
     ]
    }
   ],
   "source": [
    "# ab hum us file ma sa read karwa rahee\n",
    "\n",
    "with open('hello.txt','r') as f:\n",
    "    content = f.read()\n",
    "    print(content)"
   ]
  },
  {
   "cell_type": "code",
   "execution_count": 13,
   "metadata": {},
   "outputs": [
    {
     "name": "stdout",
     "output_type": "stream",
     "text": [
      "\n"
     ]
    }
   ],
   "source": [
    "with open('hello.txt','r') as f:\n",
    "    content = f.read()\n",
    "    content1 = f.read()\n",
    "    #print(content)\n",
    "    print(content1)  # yahan pr print is lya nhi kare ga because agee kuch ha nhi"
   ]
  },
  {
   "cell_type": "code",
   "execution_count": 12,
   "metadata": {},
   "outputs": [
    {
     "name": "stdout",
     "output_type": "stream",
     "text": [
      "I am another file that does not exist\n",
      "er file that does not exist\n"
     ]
    }
   ],
   "source": [
    "with open('hello.txt','r') as f:\n",
    "    content = f.read()\n",
    "    f.seek(10)  #cursor dubara peecha jaay ga\n",
    "    content1 = f.read()\n",
    "    print(content)\n",
    "    print(content1)"
   ]
  },
  {
   "cell_type": "code",
   "execution_count": 28,
   "metadata": {},
   "outputs": [
    {
     "name": "stdout",
     "output_type": "stream",
     "text": [
      "I am Mubashir \n",
      "I am another file that does not exist1 \n",
      "I am another file that does not exist2 \n",
      "I am another file that does not exist3 \n",
      "I am another file that does not exist4 \n",
      "I am Mubashir \n",
      "I am another file that does not exist5 \n",
      "I am another file that does not exist6 \n",
      "I am another file that does not exist7 \n",
      "I am another file that does not exist8 \n",
      "I am Mubashir \n",
      "I am another file that does not exist5 \n",
      "I am another file that does not exist6 \n",
      "I am another file that does not exist7 \n",
      "I am another file that does not exist8\n"
     ]
    }
   ],
   "source": [
    "with open(\"abc.txt\",'r') as obj:\n",
    "    content = obj.read()\n",
    "    print(content.strip())\n"
   ]
  },
  {
   "cell_type": "code",
   "execution_count": 29,
   "metadata": {},
   "outputs": [
    {
     "name": "stdout",
     "output_type": "stream",
     "text": [
      "I am Mubashir \n",
      "I am another file that does not exist1 \n",
      "I am another file that does not exist2 \n",
      "I am another file that does not exist3 \n",
      "I am another file that does not exist4 \n",
      "I am Mubashir \n",
      "I am another file that does not exist5 \n",
      "I am another file that does not exist6 \n",
      "I am another file that does not exist7 \n",
      "I am another file that does not exist8 \n",
      "I am Mubashir \n",
      "I am another file that does not exist5 \n",
      "I am another file that does not exist6 \n",
      "I am another file that does not exist7 \n",
      "I am another file that does not exist8 \n",
      "\n"
     ]
    }
   ],
   "source": [
    "with open(\"abc.txt\",'r') as obj:\n",
    "    content = obj.read()\n",
    "    print(content.strip('file'))"
   ]
  },
  {
   "cell_type": "code",
   "execution_count": null,
   "metadata": {},
   "outputs": [],
   "source": []
  }
 ],
 "metadata": {
  "kernelspec": {
   "display_name": "Python 3",
   "language": "python",
   "name": "python3"
  },
  "language_info": {
   "codemirror_mode": {
    "name": "ipython",
    "version": 3
   },
   "file_extension": ".py",
   "mimetype": "text/x-python",
   "name": "python",
   "nbconvert_exporter": "python",
   "pygments_lexer": "ipython3",
   "version": "3.8.5"
  }
 },
 "nbformat": 4,
 "nbformat_minor": 4
}
