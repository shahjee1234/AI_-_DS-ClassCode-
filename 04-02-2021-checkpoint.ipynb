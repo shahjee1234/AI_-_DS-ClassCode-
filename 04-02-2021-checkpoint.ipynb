{
 "cells": [
  {
   "cell_type": "markdown",
   "metadata": {},
   "source": [
    "# 4-02-2021\n"
   ]
  },
  {
   "cell_type": "code",
   "execution_count": 7,
   "metadata": {},
   "outputs": [],
   "source": [
    "class Car():\n",
    "    def __init__(self,make,model,year):\n",
    "        self.make = make\n",
    "        self.model = model\n",
    "        self.year = year\n",
    "        self.odometer_reading = 0\n",
    "    def get_descriptive_name(self):\n",
    "        long_name = str(self.year) + ' ' + self.make+ ' ' +self.model\n",
    "        return long_name.title()\n",
    "    def read_odometer(self,mileage):\n",
    "         print(\"This car has \" + str(self.odometer_reading) + \" miles on it\")\n",
    "        \n",
    "   # def update_odometer(self,mileage):\n",
    "        \n",
    "    def increment_odometer(self,miles):\n",
    "        self.odometer_reading += miles\n",
    "        "
   ]
  },
  {
   "cell_type": "code",
   "execution_count": 10,
   "metadata": {},
   "outputs": [],
   "source": [
    "class ElectricCar(Car):  # multiple inheritance allowed in python\n",
    "    def __init__(self,make,model,year):\n",
    "        super().__init__(make,model,year)\n",
    "        self.battery= Battery('225amp',27,'Osaka')\n",
    "    def describe_ecar(self):\n",
    "        print(self.model,self.make,self.year,self.battery.get_amp())"
   ]
  },
  {
   "cell_type": "code",
   "execution_count": 11,
   "metadata": {},
   "outputs": [
    {
     "name": "stdout",
     "output_type": "stream",
     "text": [
      "2016 Tesla Model\n"
     ]
    }
   ],
   "source": [
    "my_tesla=ElectricCar('tesla','model',2016)\n",
    "print(my_tesla.get_descriptive_name())"
   ]
  },
  {
   "cell_type": "markdown",
   "metadata": {},
   "source": [
    "# Instances as Attributes"
   ]
  },
  {
   "cell_type": "code",
   "execution_count": null,
   "metadata": {},
   "outputs": [],
   "source": []
  },
  {
   "cell_type": "code",
   "execution_count": 12,
   "metadata": {},
   "outputs": [],
   "source": [
    "class Battery():\n",
    "    def __init__(self,amp,plates,manuf):\n",
    "        self.amp = amp\n",
    "        self.plates = plates\n",
    "        self.manuf = manuf\n",
    "    def get_amp(self):\n",
    "        return self.amp"
   ]
  },
  {
   "cell_type": "code",
   "execution_count": 16,
   "metadata": {},
   "outputs": [
    {
     "data": {
      "text/plain": [
       "'225amp'"
      ]
     },
     "execution_count": 16,
     "metadata": {},
     "output_type": "execute_result"
    }
   ],
   "source": [
    "my_tesla.battery.get_amp()\n",
    "\n",
    "    "
   ]
  },
  {
   "cell_type": "code",
   "execution_count": 18,
   "metadata": {},
   "outputs": [
    {
     "name": "stdout",
     "output_type": "stream",
     "text": [
      "2016 Tesla Model\n",
      "model tesla 2016 225amp\n"
     ]
    }
   ],
   "source": [
    "my_tesla = ElectricCar('tesla','model',2016)\n",
    "print(my_tesla.get_descriptive_name())\n",
    "my_tesla.describe_ecar()"
   ]
  },
  {
   "cell_type": "code",
   "execution_count": 52,
   "metadata": {},
   "outputs": [],
   "source": [
    "class Restaurant():\n",
    "    def __init__(self,restaurant_name, cuisine_type):\n",
    "        self.resturant_name = restaurant_name\n",
    "        self.cuisine_type = cuisine_type\n",
    "        self.number_served = 0\n",
    "        \n",
    "    def increment_number_served(self):\n",
    "        \n",
    "        self.number_served += 1\n",
    "    def describe_restaurant(self):\n",
    "         print(self.resturant_name,self.cuisine_type)\n",
    "    def open_restaurant(self):\n",
    "        print(\"The resturant {self.restaurant_name} is open\")\n",
    "    \n",
    "restaurant = Restaurant(\"ABC rest\",\"Desi\")\n",
    "\n",
    "        "
   ]
  },
  {
   "cell_type": "code",
   "execution_count": 53,
   "metadata": {},
   "outputs": [
    {
     "name": "stdout",
     "output_type": "stream",
     "text": [
      "ABC rest Desi\n"
     ]
    }
   ],
   "source": [
    "restaurant.describe_restaurant()"
   ]
  },
  {
   "cell_type": "code",
   "execution_count": 54,
   "metadata": {},
   "outputs": [],
   "source": [
    "restaurant.number_served =5"
   ]
  },
  {
   "cell_type": "code",
   "execution_count": 56,
   "metadata": {},
   "outputs": [],
   "source": [
    "restaurant.increment_number_served()"
   ]
  },
  {
   "cell_type": "code",
   "execution_count": null,
   "metadata": {},
   "outputs": [],
   "source": []
  },
  {
   "cell_type": "code",
   "execution_count": null,
   "metadata": {},
   "outputs": [],
   "source": []
  },
  {
   "cell_type": "code",
   "execution_count": 34,
   "metadata": {},
   "outputs": [],
   "source": [
    "class User():\n",
    "    def __init__(self,first_name,last_name,gender,email,password):\n",
    "        self.first_name = first_name\n",
    "        self.last_name = last_name\n",
    "        self.gender = gender\n",
    "        self.email = email\n",
    "        self.password = password\n",
    "        self.login_attempts = 0\n",
    "    def describe_user(self):\n",
    "        print(f\"User name is: :{self.first_name} {self.last_name}\")\n",
    "        print(f\"User is {self.gender} by gender\")\n",
    "        print(f\"User email address is {self.email}\")\n",
    "        \n",
    "    def greet_user(self):\n",
    "        if self.gender.lower() == \"Female\":\n",
    "            print(f\"Welcome Miss {self.first_name} {self.last_name}\")\n",
    "        else:\n",
    "            print(f\"Welcome Mr {self.first_name} {self.last_name}\")\n",
    "            \n",
    "    def increment_login_attempts(self):\n",
    "        \n",
    "        self.login_attempts += 1\n",
    "\n",
    "    def reset_login_attempts(self):\n",
    "        \n",
    "        self.login_attempts = 0\n",
    "            \n",
    "user1 = User('Syed','Mubashir','Male','abc@gmail.com','123@')\n",
    "user2 = User('Syed','Ahmed','Male','sdc@gmail.com','1223@')\n",
    "user3 = User('Sehar','Khan','Female','xyz@gmail.com','123#@')\n",
    "        "
   ]
  },
  {
   "cell_type": "code",
   "execution_count": 58,
   "metadata": {},
   "outputs": [
    {
     "name": "stdout",
     "output_type": "stream",
     "text": [
      "\n",
      "Making 3 login attempts...\n",
      "  Login attempts: 12\n"
     ]
    }
   ],
   "source": [
    "print(\"\\nMaking 3 login attempts...\")\n",
    "user1.increment_login_attempts\n",
    "\n",
    "print(\"  Login attempts: \" + str(user1.login_attempts))"
   ]
  },
  {
   "cell_type": "code",
   "execution_count": 59,
   "metadata": {},
   "outputs": [
    {
     "name": "stdout",
     "output_type": "stream",
     "text": [
      "Welcome Mr Sehar Khan\n"
     ]
    }
   ],
   "source": [
    "user3.greet_user()\n"
   ]
  },
  {
   "cell_type": "code",
   "execution_count": 60,
   "metadata": {},
   "outputs": [
    {
     "data": {
      "text/plain": [
       "12"
      ]
     },
     "execution_count": 60,
     "metadata": {},
     "output_type": "execute_result"
    }
   ],
   "source": [
    "user1.login_attempts"
   ]
  },
  {
   "cell_type": "code",
   "execution_count": 72,
   "metadata": {},
   "outputs": [],
   "source": [
    "# Excercise 9.6\n",
    "\n",
    "class IceCreamStand(Restaurant):  # multiple inheritance allowed in python\n",
    "    def __init__(self,restaurant_name, cuisine_type):\n",
    "        super().__init__(restaurant_name, cuisine_type)\n",
    "        self.flavours = ['A','B','C','D']\n",
    "        \n",
    "    def showFlavors(self):\n",
    "        print(\"Available flavours are:\")\n",
    "        for flavour in self.flavours:\n",
    "            print(flavour, end=',')"
   ]
  },
  {
   "cell_type": "code",
   "execution_count": 73,
   "metadata": {},
   "outputs": [],
   "source": [
    "istand1=IceCreamStand('choco','yougs')\n"
   ]
  },
  {
   "cell_type": "code",
   "execution_count": 76,
   "metadata": {},
   "outputs": [
    {
     "name": "stdout",
     "output_type": "stream",
     "text": [
      "Available flavours are:\n",
      "A,B,C,D,"
     ]
    }
   ],
   "source": [
    "istand1.showFlavors()"
   ]
  },
  {
   "cell_type": "code",
   "execution_count": null,
   "metadata": {},
   "outputs": [],
   "source": []
  }
 ],
 "metadata": {
  "kernelspec": {
   "display_name": "Python 3",
   "language": "python",
   "name": "python3"
  },
  "language_info": {
   "codemirror_mode": {
    "name": "ipython",
    "version": 3
   },
   "file_extension": ".py",
   "mimetype": "text/x-python",
   "name": "python",
   "nbconvert_exporter": "python",
   "pygments_lexer": "ipython3",
   "version": "3.8.5"
  }
 },
 "nbformat": 4,
 "nbformat_minor": 4
}
